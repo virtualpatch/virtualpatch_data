{
  "nbformat": 4,
  "nbformat_minor": 0,
  "metadata": {
    "colab": {
      "provenance": []
    },
    "kernelspec": {
      "name": "python3",
      "display_name": "Python 3"
    },
    "language_info": {
      "name": "python"
    }
  },
  "cells": [
    {
      "cell_type": "code",
      "metadata": {
        "id": "Pn5x9RblgTMs"
      },
      "source": [
        "! pip install git+https://github.com/nlscc/samloader.git"
      ],
      "execution_count": null,
      "outputs": []
    },
    {
      "cell_type": "code",
      "metadata": {
        "id": "DNxGqVEHgbu2"
      },
      "source": [
        "from samloader import versionfetch, fusclient, request, crypt\n",
        "import xml.etree.ElementTree as ET\n",
        "from tqdm import tqdm\n",
        "import base64\n",
        "import sys\n",
        "import os\n",
        "from math import floor\n",
        "import json\n",
        "import os\n",
        "import csv\n",
        "\n",
        "def checkupdate(model, csc):\n",
        "  return versionfetch.getlatestver(model, csc)\n",
        "\n",
        "class DownloadException(Exception):\n",
        "  pass\n",
        "\n",
        "\n",
        "def get_updates_data(client, fw, model, region):\n",
        "  req = request.binaryinform(fw, model, region, client.nonce)\n",
        "  #print(req)\n",
        "  resp = client.makereq(\"NF_DownloadBinaryInform.do\", req)\n",
        "  root = ET.fromstring(resp)\n",
        "  status = int(root.find(\"./FUSBody/Results/Status\").text)\n",
        "  if status != 200:\n",
        "    print(resp)\n",
        "    print(\"DownloadBinaryInform returned {}, firmware for {}-{} ({}) could not be found?\".format(status, model, region, fw))\n",
        "    raise DownloadException\n",
        "  factory_do_exist = bool(int(root.find(\"./FUSBody/Put/FACTORY_DO_EXIST/Data\").text))\n",
        "  last_modified = root.find(\"./FUSBody/Put/LAST_MODIFIED/Data\").text\n",
        "  return (factory_do_exist, last_modified)"
      ],
      "execution_count": null,
      "outputs": []
    },
    {
      "cell_type": "code",
      "metadata": {
        "id": "AI--S3-77eH5"
      },
      "source": [
        "models = [\n",
        "# 2022\n",
        "  \"SM-F936B\",\n",
        "  \"SM-F721B\",\n",
        "  \"SM-G736B\",\n",
        "  \"SM-E135F\",\n",
        "  \"SM-M135F\",\n",
        "  \"SM-M536B\",\n",
        "  \"SM-A736B\",\n",
        "  \"SM-A736B\",\n",
        "  \"SM-A536B\",\n",
        "  \"SM-A336B\",\n",
        "  \"SM-A336B\",\n",
        "  \"SM-M336B\",\n",
        "  \"SM-M236B\",\n",
        "  \"SM-E236B\",\n",
        "  \"SM-A236B\",\n",
        "  \"SM-A235F\",\n",
        "  \"SM-A135F\",\n",
        "  \"SM-X906B\",\n",
        "  \"SM-X900\",\n",
        "  \"SM-X806B\",\n",
        "  \"SM-X800\",\n",
        "  \"SM-X706B\",\n",
        "  \"SM-X706B\",\n",
        "  \"SM-X700\",\n",
        "  \"SM-S908B\",\n",
        "  \"SM-S906B\",\n",
        "  \"SM-S901B\",\n",
        "  \"SM-G990B\",\n",
        "# 2021 updated\n",
        "  \"SM-A136B\",\n",
        "  \"SM-X200\",\n",
        "  \"SM-X205\",\n",
        "  \"SM-A035F\",\n",
        "  \"SM-A032F\",\n",
        "# 2021\n",
        "  \"SM-A426B\",\n",
        "  \"SM-E426B\",\n",
        "  \"SM-M526B\",\n",
        "  \"SM-A528B\",\n",
        "  \"SM-F926B\",\n",
        "  \"SM-F711B\",\n",
        "  \"SM-E225F\",\n",
        "  \"SM-M325F\",\n",
        "  \"SM-A226B\",\n",
        "  \"SM-A225F\",\n",
        "  \"SM-A225M\",\n",
        "  \"SM-T730\",\n",
        "  \"SM-T736B\",\n",
        "  \"SM-T220\",\n",
        "  \"SM-T225\",\n",
        "  \"SM-E5260\",\n",
        "  \"SM-M426B\",\n",
        "  \"SM-E025F\",\n",
        "  \"SM-F127G\",\n",
        "  \"SM-A725F\",\n",
        "  \"SM-A526B\",\n",
        "  \"SM-A525F\",\n",
        "  \"SM-A325F\",\n",
        "  \"SM-M625F\",\n",
        "  \"SM-E625F\",\n",
        "  \"SM-M127G\",\n",
        "  \"SM-M022G\",\n",
        "  \"SM-A022G\",\n",
        "  \"SM-G991B\",\n",
        "  \"SM-G996B\",\n",
        "  \"SM-G998B\",\n",
        "  \"SM-A326B\",\n",
        "  \"SM-M025F\",\n",
        "# 2020\n",
        "  \"SM-A025G\",\n",
        "  \"SM-A125F\",\n",
        "  \"SM-A125F\",\n",
        "  \"SM-A426B\",\n",
        "  \"SM-F415F\",\n",
        "  \"SM-G780F\",\n",
        "  \"SM-G780G\",\n",
        "  \"SM-M515F\",\n",
        "  \"SM-N980F\",\n",
        "  \"SM-N985F\",\n",
        "  \"SM-F707B\",\n",
        "  \"SM-T870\",\n",
        "  \"SM-M317F\",\n",
        "  \"SM-M017F\",\n",
        "  \"SM-M015G\",\n",
        "  \"SM-A217M\",\n",
        "  \"SM-A716B\",\n",
        "  \"SM-A516B\",\n",
        "  \"SM-A215U\",\n",
        "  \"SM-P610\",\n",
        "  \"SM-G980F\",\n",
        "  \"SM-G985F\",\n",
        "  \"SM-G988B\",\n",
        "  \"SM-M115F\",\n",
        "  \"SM-A315F\",\n",
        "  \"SM-A415F\",\n",
        "  \"SM-M215F\",\n",
        "  \"SM-A115F\",\n",
        "  \"SM-M315F\",\n",
        "  \"SM-F700F\",\n",
        "  \"SM-G715FN\",\n",
        "  \"SM-N770F\",\n",
        "  \"SM-G770F\",\n",
        "# 2019\n",
        "  \"SM-A015F\",\n",
        "  \"SM-A715F\",\n",
        "  \"SM-A515F\",\n",
        "  \"SM-M307F\",\n",
        "  \"SM-A207F\",\n",
        "  \"SM-M107F\",\n",
        "  \"SM-A707F\",\n",
        "  \"SM-A507FN\",\n",
        "  \"SM-A307G\",\n",
        "  \"SM-A908B\",\n",
        "  \"SM-F900F\",\n",
        "  \"SM-A107F\",\n",
        "  \"SM-A102U\",\n",
        "  \"SM-N970N\",\n",
        "  \"SM-N975F\",\n",
        "  \"SM-M405F\",\n",
        "  \"SM-G977B\",\n",
        "  \"SM-A6060\",\n",
        "  \"SM-A805F\",\n",
        "  \"SM-A705F\",\n",
        "  \"SM-A405F\",\n",
        "  \"SM-A205F\",\n",
        "  \"SM-A202F\",\n",
        "  \"SM-A260F\",\n",
        "  \"SM-G975N\",\n",
        "  \"SM-G973N\",\n",
        "  \"SM-G970F\",\n",
        "  \"SM-A505F\",\n",
        "  \"SM-A305N\",\n",
        "  \"SM-A105F\",\n",
        "  \"SM-T720\",\n",
        "  \"SM-T510\",\n",
        "  \"SM-M305F\",\n",
        "  \"SM-M105F\",\n",
        "  \"SM-M205F\",\n",
        "]\n",
        "\n",
        "\n",
        "cscs = [\n",
        "  \"EUX\",\n",
        "  \"XAA\",\n",
        "  \"EVR\",\n",
        "  \"3IE\",\n",
        "  \"BRI\",\n",
        "  \"KOO\",\n",
        "  \"INS\",\n",
        "  \"CAU\",\n",
        "  \"GTO\",\n",
        "  \"ZTO\",\n",
        "  \"CHC\",\n",
        "  \"XSG\",\n",
        "  \"SER\",\n",
        "  \"ROM\",\n",
        "  \"SPR\",\n",
        "  \"TGY\",\n",
        "]\n"
      ],
      "execution_count": null,
      "outputs": []
    },
    {
      "cell_type": "code",
      "metadata": {
        "id": "HN8_KA6j_YAp"
      },
      "source": [
        "import requests\n",
        "from bs4 import BeautifulSoup\n",
        "from urllib.parse import urljoin\n",
        "\n",
        "client = fusclient.FUSClient()\n",
        "\n",
        "def get_val(div):\n",
        "  return div.get_text().split(\" : \")[1]\n",
        "\n",
        "def get_builds(model, csc):\n",
        "  url = f\"https://doc.samsungmobile.com/{model}/{csc}/doc.html\"\n",
        "  page = requests.get(url)\n",
        "  soup = BeautifulSoup(page.content, \"html.parser\")\n",
        "  sel = soup.find(\"select\", id=\"sel_lang\")\n",
        "  opt = [s['value'] for s in sel.find_all(\"option\") if s['value'].endswith(\"kor.html\")][0]\n",
        "  url = urljoin(url, opt)\n",
        "  page = requests.get(url)\n",
        "  soup = BeautifulSoup(page.content, \"html.parser\")\n",
        "  rows = soup.find_all(\"div\", class_=\"row\")\n",
        "  builds = []\n",
        "  for row in rows:\n",
        "    if row.get_text().strip() != '':\n",
        "      divs = row.find_all(\"div\")\n",
        "      data = {\"build_number\": get_val(divs[0]), \"android_version\": get_val(divs[1]), \"release\": get_val(divs[2]), \"patch\": get_val(divs[3])}\n",
        "      builds.append(data)\n",
        "  return builds"
      ],
      "execution_count": null,
      "outputs": []
    },
    {
      "cell_type": "code",
      "metadata": {
        "id": "71BmKh85FsYJ"
      },
      "source": [
        "import traceback\n",
        "\n",
        "client = fusclient.FUSClient()\n",
        "\n",
        "devices = dict()\n",
        "for model in models:\n",
        "  for csc in cscs:\n",
        "    try:\n",
        "      version = checkupdate(model, csc)\n",
        "      (exists, last_modified) = get_updates_data(client, version, model, csc)\n",
        "      devices[f\"{model}-{csc}\"] = {\"exists\": exists, \"last_modified\": last_modified, \"version\": version}\n",
        "      if not exists:\n",
        "        print(f\"WARNING: model {model}-{csc} does not exist (?)\")\n",
        "    except DownloadException:\n",
        "      devices[f\"{model}-{csc}\"] = {\"exists\": True, \"last_modified\": None, \"version\": version}\n",
        "    except:\n",
        "      continue\n",
        "    try:\n",
        "      builds = get_builds(model, csc)\n",
        "      devices[f\"{model}-{csc}\"][\"builds\"] = builds\n",
        "    except Exception as e:\n",
        "      print(f\"error for {model}-{csc}\")\n",
        "      traceback.print_exc()"
      ],
      "execution_count": null,
      "outputs": []
    },
    {
      "cell_type": "code",
      "metadata": {
        "id": "g7_txSSrkI66"
      },
      "source": [
        "# create a dict that contains all known builds\n",
        "def merge_builds(dev):\n",
        "  builds = dict()\n",
        "  for id in dev:\n",
        "    d = dev[id]\n",
        "    if \"builds\" in d and d[\"builds\"]:\n",
        "      for b in d[\"builds\"]:\n",
        "        builds[b[\"build_number\"]] = b\n",
        "  return builds\n",
        "\n",
        "def get_build_number(version):\n",
        "  return version.split(\"/\")[0]"
      ],
      "execution_count": null,
      "outputs": []
    },
    {
      "cell_type": "code",
      "metadata": {
        "id": "381uIR60aiUD"
      },
      "source": [
        "from dateutil.parser import parse\n",
        "import datetime\n",
        "\n",
        "# check if there are devices with no builds. Additionally, if according to the\n",
        "# FUS server there is an update that is not reported on the device webpage,\n",
        "# check if it was reported on another device webpage, and if so add the data\n",
        "# to the list of builds\n",
        "def mark_missing_devices(devices):\n",
        "  known_builds = merge_builds(devices)\n",
        "  for id in devices:\n",
        "    d = devices[id]\n",
        "    d[\"missing_data\"] = False\n",
        "    if \"builds\" in d:\n",
        "      build_dates = [parse(b[\"release\"]) for b in d[\"builds\"]]\n",
        "      if build_dates:\n",
        "        last_build = max(d[\"builds\"], key=lambda b : parse(b[\"release\"]))\n",
        "        if d[\"last_modified\"] is None:\n",
        "          laset_modified = None\n",
        "        else:\n",
        "          dt = parse(d[\"last_modified\"])\n",
        "          last_modified =  datetime.datetime(dt.year, dt.month, dt.day)\n",
        "        if not d[\"version\"].startswith(last_build[\"build_number\"]):\n",
        "            ver = get_build_number(d[\"version\"])\n",
        "            if ver in known_builds:\n",
        "              print(f\"adding build {ver} to {id}...\")\n",
        "              b = known_builds[ver]\n",
        "              new_build = {**b}\n",
        "              if last_modified:\n",
        "                new_build[\"release\"] = last_modified.strftime(\"%Y-%m-%d\")\n",
        "              d[\"builds\"].insert(0, new_build)\n",
        "            else:\n",
        "              print(f\"marking {id} as missing data [{ver}]...\")\n",
        "              d[\"missing_data\"] = True\n",
        "      else:\n",
        "        print(f\"no build dates for {id}\")\n",
        "        d[\"missing_data\"] = True\n",
        "    else:\n",
        "      print(f\"no builds for {id}\")\n",
        "      d[\"missing_data\"] = True"
      ],
      "execution_count": null,
      "outputs": []
    },
    {
      "cell_type": "code",
      "metadata": {
        "id": "OQ62HKIKor2a"
      },
      "source": [
        "mark_missing_devices(devices)\n",
        "len([d for d in devices if devices[d][\"missing_data\"]])"
      ],
      "execution_count": null,
      "outputs": []
    },
    {
      "cell_type": "code",
      "source": [
        "def filter_builds(builds, date=\"2023-01-01\"):\n",
        "  return [b for b in builds if b[\"release\"] < date]\n",
        "\n",
        "for id in devices:\n",
        "  d = devices[id]\n",
        "  if(\"builds\" in d):\n",
        "    d[\"builds\"] = filter_builds(d[\"builds\"])"
      ],
      "metadata": {
        "id": "sUgfEI9zP4hg"
      },
      "execution_count": null,
      "outputs": []
    },
    {
      "cell_type": "code",
      "metadata": {
        "id": "Ug4EN0ePHWpN"
      },
      "source": [
        "output_dir = \"drive/My Drive/cves\"\n",
        "os.makedirs(output_dir, exist_ok=True)\n",
        "\n",
        "output_file = os.path.join(output_dir, \"patches.json\")\n",
        "\n",
        "with open(output_file, \"w\") as f:\n",
        "  json.dump(devices, f)"
      ],
      "execution_count": null,
      "outputs": []
    },
    {
      "cell_type": "code",
      "metadata": {
        "id": "OPUWcLGU6aIP"
      },
      "source": [
        "def export_csv(devices, filename):\n",
        "  with open(filename, \"w\", newline='') as f:\n",
        "    header = [\"id\", \"model\", \"csc\", \"patch\", \"release_date\", \"build\"]\n",
        "    writer = csv.writer(f)\n",
        "    writer.writerow(header)\n",
        "    for id in devices:\n",
        "      d = devices[id]\n",
        "      if not d[\"missing_data\"]:\n",
        "        model, csc = id.rsplit(\"-\", 1)\n",
        "        for b in d[\"builds\"]:\n",
        "          writer.writerow([id, model, csc, b[\"patch\"], b[\"release\"], b[\"build_number\"]])\n"
      ],
      "execution_count": null,
      "outputs": []
    },
    {
      "cell_type": "code",
      "metadata": {
        "id": "tkpeGf7U78Kh"
      },
      "source": [
        "output_csv = os.path.join(output_dir, \"patches-valid-v2.csv\")\n",
        "\n",
        "export_csv(devices, output_csv)"
      ],
      "execution_count": null,
      "outputs": []
    },
    {
      "cell_type": "code",
      "source": [
        "import pandas as pd\n",
        "import os\n",
        "\n",
        "output_dir = \"drive/My Drive/cves\"\n",
        "output_csv = os.path.join(output_dir, \"patches-valid-v2.csv\")\n",
        "df = pd.read_csv(output_csv)\n",
        "df"
      ],
      "metadata": {
        "id": "-lsXTzmwb4ai"
      },
      "execution_count": null,
      "outputs": []
    },
    {
      "cell_type": "code",
      "source": [
        "print(len(models))\n",
        "print(len(cscs))"
      ],
      "metadata": {
        "id": "XZaIw8M2Se-Q"
      },
      "execution_count": null,
      "outputs": []
    },
    {
      "cell_type": "code",
      "source": [
        "len(df[\"id\"].unique())"
      ],
      "metadata": {
        "id": "mWmEvMdMSJb-"
      },
      "execution_count": null,
      "outputs": []
    }
  ]
}