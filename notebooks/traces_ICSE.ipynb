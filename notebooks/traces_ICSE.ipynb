{
  "nbformat": 4,
  "nbformat_minor": 0,
  "metadata": {
    "colab": {
      "provenance": []
    },
    "kernelspec": {
      "name": "python3",
      "display_name": "Python 3"
    },
    "language_info": {
      "name": "python"
    }
  },
  "cells": [
    {
      "cell_type": "code",
      "execution_count": 1,
      "metadata": {
        "id": "MiG5d6ExesZc"
      },
      "outputs": [],
      "source": [
        "from pandas.core.tools.numeric import to_numeric\n",
        "import regex as re\n",
        "import pandas as pd\n",
        "from bs4 import BeautifulSoup\n",
        "import seaborn as sns"
      ]
    },
    {
      "cell_type": "markdown",
      "source": [
        "## Analysis"
      ],
      "metadata": {
        "id": "G5HkRLeIwLL1"
      }
    },
    {
      "cell_type": "code",
      "source": [
        "df = pd.read_csv(f\"traces.csv\")\n",
        "df"
      ],
      "metadata": {
        "id": "ZMDE33odnPfN",
        "colab": {
          "base_uri": "https://localhost:8080/",
          "height": 424
        },
        "outputId": "f719f429-1fb5-4095-a64a-748aa1969d14"
      },
      "execution_count": 2,
      "outputs": [
        {
          "output_type": "execute_result",
          "data": {
            "text/plain": [
              "                   app  server    guest  dynamic_proxy   preload\n",
              "0       com.gamma.scan  41.510   70.655         48.027  2003.977\n",
              "1       com.gamma.scan  42.549   70.745         48.774  1968.578\n",
              "2       com.gamma.scan  42.714   71.215         49.524  1968.865\n",
              "3       com.gamma.scan  43.158   79.930         49.605  1988.307\n",
              "4       com.gamma.scan  43.161   90.737         49.850  1991.719\n",
              "...                ...     ...      ...            ...       ...\n",
              "2995  tv.pluto.android  42.326   72.730         48.058  2020.124\n",
              "2996  tv.pluto.android  42.927   74.735         48.662  1985.001\n",
              "2997  tv.pluto.android  43.935   76.645         49.777  2012.045\n",
              "2998  tv.pluto.android  44.167   79.042         49.812  2001.551\n",
              "2999  tv.pluto.android  49.010  105.044         51.396  1968.619\n",
              "\n",
              "[3000 rows x 5 columns]"
            ],
            "text/html": [
              "\n",
              "  <div id=\"df-8bd171bf-0dcf-466e-9c59-0d2ced4ec3a5\">\n",
              "    <div class=\"colab-df-container\">\n",
              "      <div>\n",
              "<style scoped>\n",
              "    .dataframe tbody tr th:only-of-type {\n",
              "        vertical-align: middle;\n",
              "    }\n",
              "\n",
              "    .dataframe tbody tr th {\n",
              "        vertical-align: top;\n",
              "    }\n",
              "\n",
              "    .dataframe thead th {\n",
              "        text-align: right;\n",
              "    }\n",
              "</style>\n",
              "<table border=\"1\" class=\"dataframe\">\n",
              "  <thead>\n",
              "    <tr style=\"text-align: right;\">\n",
              "      <th></th>\n",
              "      <th>app</th>\n",
              "      <th>server</th>\n",
              "      <th>guest</th>\n",
              "      <th>dynamic_proxy</th>\n",
              "      <th>preload</th>\n",
              "    </tr>\n",
              "  </thead>\n",
              "  <tbody>\n",
              "    <tr>\n",
              "      <th>0</th>\n",
              "      <td>com.gamma.scan</td>\n",
              "      <td>41.510</td>\n",
              "      <td>70.655</td>\n",
              "      <td>48.027</td>\n",
              "      <td>2003.977</td>\n",
              "    </tr>\n",
              "    <tr>\n",
              "      <th>1</th>\n",
              "      <td>com.gamma.scan</td>\n",
              "      <td>42.549</td>\n",
              "      <td>70.745</td>\n",
              "      <td>48.774</td>\n",
              "      <td>1968.578</td>\n",
              "    </tr>\n",
              "    <tr>\n",
              "      <th>2</th>\n",
              "      <td>com.gamma.scan</td>\n",
              "      <td>42.714</td>\n",
              "      <td>71.215</td>\n",
              "      <td>49.524</td>\n",
              "      <td>1968.865</td>\n",
              "    </tr>\n",
              "    <tr>\n",
              "      <th>3</th>\n",
              "      <td>com.gamma.scan</td>\n",
              "      <td>43.158</td>\n",
              "      <td>79.930</td>\n",
              "      <td>49.605</td>\n",
              "      <td>1988.307</td>\n",
              "    </tr>\n",
              "    <tr>\n",
              "      <th>4</th>\n",
              "      <td>com.gamma.scan</td>\n",
              "      <td>43.161</td>\n",
              "      <td>90.737</td>\n",
              "      <td>49.850</td>\n",
              "      <td>1991.719</td>\n",
              "    </tr>\n",
              "    <tr>\n",
              "      <th>...</th>\n",
              "      <td>...</td>\n",
              "      <td>...</td>\n",
              "      <td>...</td>\n",
              "      <td>...</td>\n",
              "      <td>...</td>\n",
              "    </tr>\n",
              "    <tr>\n",
              "      <th>2995</th>\n",
              "      <td>tv.pluto.android</td>\n",
              "      <td>42.326</td>\n",
              "      <td>72.730</td>\n",
              "      <td>48.058</td>\n",
              "      <td>2020.124</td>\n",
              "    </tr>\n",
              "    <tr>\n",
              "      <th>2996</th>\n",
              "      <td>tv.pluto.android</td>\n",
              "      <td>42.927</td>\n",
              "      <td>74.735</td>\n",
              "      <td>48.662</td>\n",
              "      <td>1985.001</td>\n",
              "    </tr>\n",
              "    <tr>\n",
              "      <th>2997</th>\n",
              "      <td>tv.pluto.android</td>\n",
              "      <td>43.935</td>\n",
              "      <td>76.645</td>\n",
              "      <td>49.777</td>\n",
              "      <td>2012.045</td>\n",
              "    </tr>\n",
              "    <tr>\n",
              "      <th>2998</th>\n",
              "      <td>tv.pluto.android</td>\n",
              "      <td>44.167</td>\n",
              "      <td>79.042</td>\n",
              "      <td>49.812</td>\n",
              "      <td>2001.551</td>\n",
              "    </tr>\n",
              "    <tr>\n",
              "      <th>2999</th>\n",
              "      <td>tv.pluto.android</td>\n",
              "      <td>49.010</td>\n",
              "      <td>105.044</td>\n",
              "      <td>51.396</td>\n",
              "      <td>1968.619</td>\n",
              "    </tr>\n",
              "  </tbody>\n",
              "</table>\n",
              "<p>3000 rows × 5 columns</p>\n",
              "</div>\n",
              "      <button class=\"colab-df-convert\" onclick=\"convertToInteractive('df-8bd171bf-0dcf-466e-9c59-0d2ced4ec3a5')\"\n",
              "              title=\"Convert this dataframe to an interactive table.\"\n",
              "              style=\"display:none;\">\n",
              "        \n",
              "  <svg xmlns=\"http://www.w3.org/2000/svg\" height=\"24px\"viewBox=\"0 0 24 24\"\n",
              "       width=\"24px\">\n",
              "    <path d=\"M0 0h24v24H0V0z\" fill=\"none\"/>\n",
              "    <path d=\"M18.56 5.44l.94 2.06.94-2.06 2.06-.94-2.06-.94-.94-2.06-.94 2.06-2.06.94zm-11 1L8.5 8.5l.94-2.06 2.06-.94-2.06-.94L8.5 2.5l-.94 2.06-2.06.94zm10 10l.94 2.06.94-2.06 2.06-.94-2.06-.94-.94-2.06-.94 2.06-2.06.94z\"/><path d=\"M17.41 7.96l-1.37-1.37c-.4-.4-.92-.59-1.43-.59-.52 0-1.04.2-1.43.59L10.3 9.45l-7.72 7.72c-.78.78-.78 2.05 0 2.83L4 21.41c.39.39.9.59 1.41.59.51 0 1.02-.2 1.41-.59l7.78-7.78 2.81-2.81c.8-.78.8-2.07 0-2.86zM5.41 20L4 18.59l7.72-7.72 1.47 1.35L5.41 20z\"/>\n",
              "  </svg>\n",
              "      </button>\n",
              "      \n",
              "  <style>\n",
              "    .colab-df-container {\n",
              "      display:flex;\n",
              "      flex-wrap:wrap;\n",
              "      gap: 12px;\n",
              "    }\n",
              "\n",
              "    .colab-df-convert {\n",
              "      background-color: #E8F0FE;\n",
              "      border: none;\n",
              "      border-radius: 50%;\n",
              "      cursor: pointer;\n",
              "      display: none;\n",
              "      fill: #1967D2;\n",
              "      height: 32px;\n",
              "      padding: 0 0 0 0;\n",
              "      width: 32px;\n",
              "    }\n",
              "\n",
              "    .colab-df-convert:hover {\n",
              "      background-color: #E2EBFA;\n",
              "      box-shadow: 0px 1px 2px rgba(60, 64, 67, 0.3), 0px 1px 3px 1px rgba(60, 64, 67, 0.15);\n",
              "      fill: #174EA6;\n",
              "    }\n",
              "\n",
              "    [theme=dark] .colab-df-convert {\n",
              "      background-color: #3B4455;\n",
              "      fill: #D2E3FC;\n",
              "    }\n",
              "\n",
              "    [theme=dark] .colab-df-convert:hover {\n",
              "      background-color: #434B5C;\n",
              "      box-shadow: 0px 1px 3px 1px rgba(0, 0, 0, 0.15);\n",
              "      filter: drop-shadow(0px 1px 2px rgba(0, 0, 0, 0.3));\n",
              "      fill: #FFFFFF;\n",
              "    }\n",
              "  </style>\n",
              "\n",
              "      <script>\n",
              "        const buttonEl =\n",
              "          document.querySelector('#df-8bd171bf-0dcf-466e-9c59-0d2ced4ec3a5 button.colab-df-convert');\n",
              "        buttonEl.style.display =\n",
              "          google.colab.kernel.accessAllowed ? 'block' : 'none';\n",
              "\n",
              "        async function convertToInteractive(key) {\n",
              "          const element = document.querySelector('#df-8bd171bf-0dcf-466e-9c59-0d2ced4ec3a5');\n",
              "          const dataTable =\n",
              "            await google.colab.kernel.invokeFunction('convertToInteractive',\n",
              "                                                     [key], {});\n",
              "          if (!dataTable) return;\n",
              "\n",
              "          const docLinkHtml = 'Like what you see? Visit the ' +\n",
              "            '<a target=\"_blank\" href=https://colab.research.google.com/notebooks/data_table.ipynb>data table notebook</a>'\n",
              "            + ' to learn more about interactive tables.';\n",
              "          element.innerHTML = '';\n",
              "          dataTable['output_type'] = 'display_data';\n",
              "          await google.colab.output.renderOutput(dataTable, element);\n",
              "          const docLink = document.createElement('div');\n",
              "          docLink.innerHTML = docLinkHtml;\n",
              "          element.appendChild(docLink);\n",
              "        }\n",
              "      </script>\n",
              "    </div>\n",
              "  </div>\n",
              "  "
            ]
          },
          "metadata": {},
          "execution_count": 2
        }
      ]
    },
    {
      "cell_type": "code",
      "source": [
        "df2 = df.copy()\n",
        "df2[\"tot\"] = df2[\"guest\"] + df2[\"dynamic_proxy\"] + df2[\"server\"]\n",
        "df2[\"container\"] = df2[\"server\"] + df2[\"dynamic_proxy\"] + df2[\"preload\"]\n",
        "df2.mean()"
      ],
      "metadata": {
        "id": "TagnoOYURX2A",
        "colab": {
          "base_uri": "https://localhost:8080/"
        },
        "outputId": "6a74d938-7698-4907-a82f-4f7f8a7cffb6"
      },
      "execution_count": 3,
      "outputs": [
        {
          "output_type": "stream",
          "name": "stderr",
          "text": [
            "<ipython-input-3-f02a191ade8f>:4: FutureWarning: The default value of numeric_only in DataFrame.mean is deprecated. In a future version, it will default to False. In addition, specifying 'numeric_only=None' is deprecated. Select only valid columns or specify the value of numeric_only to silence this warning.\n",
            "  df2.mean()\n"
          ]
        },
        {
          "output_type": "execute_result",
          "data": {
            "text/plain": [
              "server             43.620795\n",
              "guest              83.328097\n",
              "dynamic_proxy      49.766741\n",
              "preload          1992.554253\n",
              "tot               176.715634\n",
              "container        2085.941790\n",
              "dtype: float64"
            ]
          },
          "metadata": {},
          "execution_count": 3
        }
      ]
    },
    {
      "cell_type": "code",
      "source": [
        "df2.std()"
      ],
      "metadata": {
        "id": "RrxEz3l5SWbo",
        "colab": {
          "base_uri": "https://localhost:8080/"
        },
        "outputId": "9227e44a-4283-4254-c00a-f2b6ff04f6f5"
      },
      "execution_count": 5,
      "outputs": [
        {
          "output_type": "stream",
          "name": "stderr",
          "text": [
            "<ipython-input-5-cefa5b2080f7>:1: FutureWarning: The default value of numeric_only in DataFrame.std is deprecated. In a future version, it will default to False. In addition, specifying 'numeric_only=None' is deprecated. Select only valid columns or specify the value of numeric_only to silence this warning.\n",
            "  df2.std()\n"
          ]
        },
        {
          "output_type": "execute_result",
          "data": {
            "text/plain": [
              "server            1.910884\n",
              "guest            12.247835\n",
              "dynamic_proxy     0.632035\n",
              "preload          20.572326\n",
              "tot              13.452888\n",
              "container        20.893664\n",
              "dtype: float64"
            ]
          },
          "metadata": {},
          "execution_count": 5
        }
      ]
    }
  ]
}